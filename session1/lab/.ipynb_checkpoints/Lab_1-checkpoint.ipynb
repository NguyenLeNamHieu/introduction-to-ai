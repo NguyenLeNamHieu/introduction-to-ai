{
 "cells": [
  {
   "cell_type": "markdown",
   "metadata": {},
   "source": [
    "Introduction to Artificial Intelligence - Lab Session 1 - \n",
    "--\n",
    "At the end of this session, you will be able to : \n",
    "- Create and manage the Jupyter Notebooks environment to run code, insert text and math equations.\n",
    "- Perform basic matrix manipulations using Numpy. \n",
    "- Create signals and perform basic scientific computing using Scipy and Numpy.\n",
    "- Use the pyrat software to generate custom datasets and save it into numpy\n",
    "- Produce simple data visulisation using Matplotlib."
   ]
  },
  {
   "cell_type": "markdown",
   "metadata": {},
   "source": [
    "Part 1 - Intro to Jupyter Notebook\n",
    "--\n",
    "Here, we will only cover the basics. \n",
    "\n",
    "Jupyter Notebook is based on the .ipynb format (iPython Notebook), and is essentially a way to do rapid prototyping / demonstrations of scientific python. The basic idea is to define *cells*. \n",
    "Cells can be of several types, including python code, or rich text (using [markdown formatting](https://www.markdownguide.org/basic-syntax/)).\n",
    "\n",
    "When a code cell is evaluated (i.e. the python code will be executed), the output of this evaluation will show up right below the cell. \n",
    "\n",
    "When a text cell is evaluated, the text will be formatted. \n",
    "\n",
    "You can now do the \"User Interface Tour\" from the Help menu. "
   ]
  },
  {
   "cell_type": "markdown",
   "metadata": {},
   "source": [
    "Done ? \n",
    "\n",
    "When working with Jupyter Notebook, you will essentially switch between two modes : \n",
    "- The Edit mode in which you edit the content of the cells \n",
    "- The Command mode, that enables you to change the cell types. \n",
    "\n",
    "When in Command mode, you can select cells. If you select a single cell, you can edit it by simply pressing enter, or double clicking on it. "
   ]
  },
  {
   "cell_type": "markdown",
   "metadata": {},
   "source": [
    "For example, try editing THIS CELL and change its content. "
   ]
  },
  {
   "cell_type": "markdown",
   "metadata": {},
   "source": [
    "Now, edit the cell below, change the code, and when you're done, press Shift+Enter to evalute the code. "
   ]
  },
  {
   "cell_type": "code",
   "execution_count": 1,
   "metadata": {
    "ExecuteTime": {
     "end_time": "2023-10-04T13:09:55.169824Z",
     "start_time": "2023-10-04T13:09:55.162235Z"
    }
   },
   "outputs": [
    {
     "name": "stdout",
     "output_type": "stream",
     "text": [
      "32 + 64\n"
     ]
    }
   ],
   "source": [
    "### CELL TO BE EDITED\n",
    "\n",
    "a=32\n",
    "b= 2*a\n",
    "print(\"%d + %d\"%(a,b))"
   ]
  },
  {
   "cell_type": "markdown",
   "metadata": {},
   "source": [
    "Text cells can contain math expressions that use the Markdown formatting, in which you can use LaTEx expressions for maths (enclosed between two dollar signs). \n",
    "\n",
    "For example : $A(k) \\triangleq \\sum_{\\mathbf{n} =1}^{k}{n^2}$\n",
    "\n",
    "Now : \n",
    "- Edit the current cell to show the code that displays the math expression,\n",
    "- Create a code cell below that defines a function that calculates $A(k)$ given k, and evaluate this cell,\n",
    "- Create another cell and use the function to display $A(k)$ for a few values of $\\mathbf{k}$ (eg 10 and 20)."
   ]
  },
  {
   "cell_type": "code",
   "execution_count": 2,
   "metadata": {
    "ExecuteTime": {
     "end_time": "2023-10-04T13:09:55.177014Z",
     "start_time": "2023-10-04T13:09:55.172813Z"
    }
   },
   "outputs": [],
   "source": [
    "### CELL TO BE COMPLETED \n"
   ]
  },
  {
   "cell_type": "code",
   "execution_count": 3,
   "metadata": {
    "ExecuteTime": {
     "end_time": "2023-10-04T13:09:55.185987Z",
     "start_time": "2023-10-04T13:09:55.181998Z"
    }
   },
   "outputs": [],
   "source": [
    "### CELL TO BE COMPLETED \n"
   ]
  },
  {
   "cell_type": "markdown",
   "metadata": {},
   "source": [
    "Note that using Jupyter Notebook, if you evaluate a cell with a function followed by a \"?\" sign, the help of the function will pop up. \n",
    "\n",
    "Example : "
   ]
  },
  {
   "cell_type": "code",
   "execution_count": 4,
   "metadata": {
    "ExecuteTime": {
     "end_time": "2023-10-04T13:09:55.197248Z",
     "start_time": "2023-10-04T13:09:55.188989Z"
    }
   },
   "outputs": [],
   "source": [
    "import os\n",
    "\n",
    "os.listdir?"
   ]
  },
  {
   "cell_type": "markdown",
   "metadata": {},
   "source": [
    "You can also display the code of a function using the syntax \"??\" "
   ]
  },
  {
   "cell_type": "code",
   "execution_count": 5,
   "metadata": {
    "ExecuteTime": {
     "end_time": "2023-10-04T13:09:55.205441Z",
     "start_time": "2023-10-04T13:09:55.200244Z"
    }
   },
   "outputs": [
    {
     "name": "stdout",
     "output_type": "stream",
     "text": [
      "Object `A` not found.\n"
     ]
    }
   ],
   "source": [
    "A??"
   ]
  },
  {
   "cell_type": "markdown",
   "metadata": {},
   "source": [
    "The popup can be closed by pressing the Escape key. \n",
    "\n",
    "Use the listdir function to browse the content of some directories... \n"
   ]
  },
  {
   "cell_type": "code",
   "execution_count": 6,
   "metadata": {
    "ExecuteTime": {
     "end_time": "2023-10-04T13:09:55.212097Z",
     "start_time": "2023-10-04T13:09:55.208439Z"
    }
   },
   "outputs": [],
   "source": [
    "### CELL TO BE COMPLETED \n"
   ]
  },
  {
   "cell_type": "markdown",
   "metadata": {},
   "source": [
    "Part 2 - Introduction to Numpy, Scipy and Matplotlib \n",
    "--"
   ]
  },
  {
   "cell_type": "markdown",
   "metadata": {},
   "source": [
    "A code cell can contain any python code, including imports. Let's start by importing the Numpy package. "
   ]
  },
  {
   "cell_type": "code",
   "execution_count": 7,
   "metadata": {
    "ExecuteTime": {
     "end_time": "2023-10-04T13:09:55.408562Z",
     "start_time": "2023-10-04T13:09:55.215094Z"
    }
   },
   "outputs": [],
   "source": [
    "import numpy as np"
   ]
  },
  {
   "cell_type": "markdown",
   "metadata": {},
   "source": [
    "Numpy can be used to generate pseudo-random values from various distributions. In particular, a very useful distribution is the standard normal (zero mean and unit variance). Let's generate two vectors sampled from the normal distribution, using a length parameter that we'll be able to change if needed. "
   ]
  },
  {
   "cell_type": "code",
   "execution_count": 8,
   "metadata": {
    "ExecuteTime": {
     "end_time": "2023-10-04T13:09:55.422386Z",
     "start_time": "2023-10-04T13:09:55.415553Z"
    }
   },
   "outputs": [],
   "source": [
    "length = 50\n",
    "\n",
    "vecA = np.random.randn(length)\n",
    "vecB = np.random.randn(2*length)"
   ]
  },
  {
   "cell_type": "markdown",
   "metadata": {},
   "source": [
    "vecA and vecB are numpy *arrays*. One of their attributes can be fetched to check their *shape*"
   ]
  },
  {
   "cell_type": "code",
   "execution_count": 9,
   "metadata": {
    "ExecuteTime": {
     "end_time": "2023-10-04T13:09:55.446081Z",
     "start_time": "2023-10-04T13:09:55.428374Z"
    }
   },
   "outputs": [
    {
     "name": "stdout",
     "output_type": "stream",
     "text": [
      "(50,)\n",
      "(100,)\n"
     ]
    }
   ],
   "source": [
    "print(vecA.shape)\n",
    "print(vecB.shape)"
   ]
  },
  {
   "cell_type": "code",
   "execution_count": 10,
   "metadata": {
    "ExecuteTime": {
     "end_time": "2023-10-04T13:09:55.459036Z",
     "start_time": "2023-10-04T13:09:55.453054Z"
    }
   },
   "outputs": [
    {
     "name": "stdout",
     "output_type": "stream",
     "text": [
      "[ 0.22538588  0.94377867 -2.01875118 -0.48074021  0.23475436 -0.55751392\n",
      "  0.09689445 -0.51633249  0.11056196  0.62763926  0.87798955 -2.30214577\n",
      "  0.3406893  -1.45376353  0.26271039 -0.37277133 -0.60547222 -0.18292037\n",
      "  0.8786796  -0.40567717  0.20854005 -0.55125918  0.67862694 -0.30202642\n",
      " -0.30000218 -1.5129882   0.6511447   1.94093407  1.52067986 -1.63733702\n",
      " -0.46883873  1.58931052  0.97524728 -1.07865829  0.50117537  1.28912999\n",
      "  0.19366461 -0.68777217 -0.24943563  0.10311725 -0.40398374  0.14702955\n",
      " -0.35895186 -0.50672838  1.60398415  0.38957045  0.88859748  1.29867645\n",
      "  1.6402816   0.01748503]\n"
     ]
    }
   ],
   "source": [
    "print(vecA)"
   ]
  },
  {
   "cell_type": "markdown",
   "metadata": {},
   "source": [
    "Numpy arrays can be vectors as well as matrices, or any tensor. For example the following code will create tensors with 3 dimensions using the standard normal"
   ]
  },
  {
   "cell_type": "code",
   "execution_count": 11,
   "metadata": {
    "ExecuteTime": {
     "end_time": "2023-10-04T13:09:55.472087Z",
     "start_time": "2023-10-04T13:09:55.462028Z"
    }
   },
   "outputs": [
    {
     "name": "stdout",
     "output_type": "stream",
     "text": [
      "(3, 500, 4)\n"
     ]
    }
   ],
   "source": [
    "arrayC = np.random.randn(3,500,4)\n",
    "print(arrayC.shape)"
   ]
  },
  {
   "cell_type": "markdown",
   "metadata": {},
   "source": [
    "Note that the random package of Numpy has several other interesting functions. Try to test the two functions proposed in the cell below. \n",
    "\n",
    "Try uncommenting the two functions below one by one, look up their help page, and try to use them. "
   ]
  },
  {
   "cell_type": "code",
   "execution_count": 12,
   "metadata": {
    "ExecuteTime": {
     "end_time": "2023-10-04T13:09:55.478052Z",
     "start_time": "2023-10-04T13:09:55.474080Z"
    }
   },
   "outputs": [],
   "source": [
    "### CELL TO BE Edited \n",
    "\n",
    "#np.random.randint\n",
    "#np.random.permutation"
   ]
  },
  {
   "cell_type": "markdown",
   "metadata": {},
   "source": [
    "A very important features of arrays is the fact they can be used as *iterables*. For example, you can iterate over the dimensions of an array by simply \"looping\" over it using a *for* loop"
   ]
  },
  {
   "cell_type": "code",
   "execution_count": 13,
   "metadata": {
    "ExecuteTime": {
     "end_time": "2023-10-04T13:09:55.487184Z",
     "start_time": "2023-10-04T13:09:55.482047Z"
    }
   },
   "outputs": [
    {
     "name": "stdout",
     "output_type": "stream",
     "text": [
      "(500, 4)\n",
      "(500, 4)\n",
      "(500, 4)\n"
     ]
    }
   ],
   "source": [
    "for curdim in arrayC:\n",
    "    print(curdim.shape)"
   ]
  },
  {
   "cell_type": "markdown",
   "metadata": {},
   "source": [
    "Also possible to enumerate along the dimension in order to get the index of the current \"smaller\" array\n"
   ]
  },
  {
   "cell_type": "code",
   "execution_count": 14,
   "metadata": {
    "ExecuteTime": {
     "end_time": "2023-10-04T13:09:55.499390Z",
     "start_time": "2023-10-04T13:09:55.490187Z"
    }
   },
   "outputs": [
    {
     "name": "stdout",
     "output_type": "stream",
     "text": [
      "Initial shape is 3 500 4\n",
      "Iterating over the first dimension using an index k\n",
      "k = 0, shape is 500 4\n",
      "k = 1, shape is 500 4\n",
      "k = 2, shape is 500 4\n"
     ]
    }
   ],
   "source": [
    "print('Initial shape is %d %d %d' % (arrayC.shape[0],arrayC.shape[1],arrayC.shape[2]))\n",
    "print('Iterating over the first dimension using an index k')\n",
    "for k,curdim in enumerate(arrayC):\n",
    "    print('k = %d, shape is %d %d' % (k,curdim.shape[0],curdim.shape[1]))"
   ]
  },
  {
   "cell_type": "markdown",
   "metadata": {},
   "source": [
    "Use the previous principle in order to calculate the average of each 500x4 subvector, using the function np.mean()"
   ]
  },
  {
   "cell_type": "code",
   "execution_count": 15,
   "metadata": {
    "ExecuteTime": {
     "end_time": "2023-10-04T13:09:55.507255Z",
     "start_time": "2023-10-04T13:09:55.503386Z"
    }
   },
   "outputs": [],
   "source": [
    "### CELL TO BE COMPLETED \n"
   ]
  },
  {
   "cell_type": "markdown",
   "metadata": {},
   "source": [
    "Check that you obtain the same result when directly computing the average over the two axis 1 and 2 (look up the arguments of np.mean) "
   ]
  },
  {
   "cell_type": "code",
   "execution_count": 16,
   "metadata": {
    "ExecuteTime": {
     "end_time": "2023-10-04T13:09:55.514530Z",
     "start_time": "2023-10-04T13:09:55.510252Z"
    }
   },
   "outputs": [],
   "source": [
    "### CELL TO BE COMPLETED \n"
   ]
  },
  {
   "cell_type": "markdown",
   "metadata": {},
   "source": [
    "These features will prove to be very useful when manipulate large arrays. "
   ]
  },
  {
   "cell_type": "markdown",
   "metadata": {},
   "source": [
    "Another important operation when working with Numpy Arrays is *reshaping*. Essentially, *reshaping* consists in changing the organisation of the array (in terms of dimension), while keeping the same number of elements. For example, a 20x10 2D array can be converted into a 4x5x10 array"
   ]
  },
  {
   "cell_type": "code",
   "execution_count": 17,
   "metadata": {
    "ExecuteTime": {
     "end_time": "2023-10-04T13:09:55.538370Z",
     "start_time": "2023-10-04T13:09:55.523518Z"
    }
   },
   "outputs": [
    {
     "name": "stdout",
     "output_type": "stream",
     "text": [
      "Initial shape of A is 10 x 20\n",
      "[[3 2 4 3 4 2 1 1 3 1 3 1 3 1 2 4 2 1 3 1]\n",
      " [4 4 4 2 4 2 4 4 2 1 4 2 2 3 3 1 3 3 2 4]\n",
      " [2 4 1 1 1 1 3 4 3 4 1 4 1 2 4 4 1 2 3 2]\n",
      " [4 1 2 1 3 4 4 1 2 2 3 1 4 1 4 2 3 4 1 4]\n",
      " [1 1 3 4 2 4 4 4 1 1 1 4 3 1 3 4 1 3 3 1]\n",
      " [1 3 4 2 3 4 4 1 4 4 2 2 1 1 1 1 4 2 1 1]\n",
      " [2 1 2 4 1 1 2 1 4 2 1 1 1 3 4 1 4 4 2 2]\n",
      " [4 3 4 4 4 1 4 2 1 2 2 3 3 4 4 1 4 4 2 4]\n",
      " [2 3 4 4 4 3 1 2 1 4 4 4 2 4 3 3 1 2 3 1]\n",
      " [3 1 2 1 2 4 1 4 4 3 4 3 2 1 3 2 4 3 3 4]]\n",
      "B is A reshaped to 4 x 5 x 10\n",
      "[[[3 2 4 3 4 2 1 1 3 1]\n",
      "  [3 1 3 1 2 4 2 1 3 1]\n",
      "  [4 4 4 2 4 2 4 4 2 1]\n",
      "  [4 2 2 3 3 1 3 3 2 4]\n",
      "  [2 4 1 1 1 1 3 4 3 4]]\n",
      "\n",
      " [[1 4 1 2 4 4 1 2 3 2]\n",
      "  [4 1 2 1 3 4 4 1 2 2]\n",
      "  [3 1 4 1 4 2 3 4 1 4]\n",
      "  [1 1 3 4 2 4 4 4 1 1]\n",
      "  [1 4 3 1 3 4 1 3 3 1]]\n",
      "\n",
      " [[1 3 4 2 3 4 4 1 4 4]\n",
      "  [2 2 1 1 1 1 4 2 1 1]\n",
      "  [2 1 2 4 1 1 2 1 4 2]\n",
      "  [1 1 1 3 4 1 4 4 2 2]\n",
      "  [4 3 4 4 4 1 4 2 1 2]]\n",
      "\n",
      " [[2 3 3 4 4 1 4 4 2 4]\n",
      "  [2 3 4 4 4 3 1 2 1 4]\n",
      "  [4 4 2 4 3 3 1 2 3 1]\n",
      "  [3 1 2 1 2 4 1 4 4 3]\n",
      "  [4 3 2 1 3 2 4 3 3 4]]]\n"
     ]
    }
   ],
   "source": [
    "A = np.random.randint(1,5,(10,20))\n",
    "print('Initial shape of A is %d x %d' % (A.shape[0],A.shape[1]))\n",
    "print(A)\n",
    "B = A.reshape((4,5,10))\n",
    "print('B is A reshaped to %d x %d x %d' % (B.shape[0],B.shape[1],B.shape[2]))\n",
    "print(B)"
   ]
  },
  {
   "cell_type": "markdown",
   "metadata": {},
   "source": [
    "Now try implementing the same function $A(k)$ that we implemented in part 1 using numpy.\n",
    "\n",
    "Recall that $A(k) \\triangleq \\sum_{\\mathbf{n} =1}^{k}{n^2}$\n",
    "\n",
    "The following numpy auxiliary functions can help you:\n",
    "   - power: (np.power(base,exponent), example: np.power(2,2) = 4\n",
    "   - arange: (np.arange(last element), example: np.arange(5) = [0,1,2,3,4]\n",
    "   - sum: (np.sum(vector), example: np.sum([0,1,2,3]) = 6"
   ]
  },
  {
   "cell_type": "code",
   "execution_count": 18,
   "metadata": {
    "ExecuteTime": {
     "end_time": "2023-10-04T13:09:55.545158Z",
     "start_time": "2023-10-04T13:09:55.540369Z"
    }
   },
   "outputs": [],
   "source": [
    "### CELL TO BE COMPLETED "
   ]
  },
  {
   "cell_type": "markdown",
   "metadata": {},
   "source": [
    "One property of numpy that is really important is broadcasting. The goal of broadcasting is to simplify the vectorization of certain operations when the vectors do not have the same shape. For example you can easily perform element-wise multiplication.\n",
    "\n",
    "To test this try doing an element-wise multiplication of the vector x and matrix y below"
   ]
  },
  {
   "cell_type": "code",
   "execution_count": 19,
   "metadata": {
    "ExecuteTime": {
     "end_time": "2023-10-04T13:09:55.557035Z",
     "start_time": "2023-10-04T13:09:55.548158Z"
    }
   },
   "outputs": [
    {
     "name": "stdout",
     "output_type": "stream",
     "text": [
      "X:  [2 3]\n",
      "Y: \n",
      "[[ 4  1]\n",
      " [ 9 10]\n",
      " [12 13]]\n",
      "X shape is:  (2,)\n",
      "Y shape is:  (3, 2)\n",
      "Element-wise multiplication shape: (3, 2)\n",
      "Element-wise multiplication result:\n",
      "[[ 8  3]\n",
      " [18 30]\n",
      " [24 39]]\n"
     ]
    }
   ],
   "source": [
    "x = np.array([2,3])\n",
    "y = np.array([[4,1],[9,10],[12,13]])\n",
    "result = x*y\n",
    "print(\"X: \",x)\n",
    "print(\"Y: \")\n",
    "print(y)\n",
    "print(\"X shape is: \",x.shape)\n",
    "print(\"Y shape is: \",y.shape)\n",
    "print(\"Element-wise multiplication shape:\", result.shape)\n",
    "print(\"Element-wise multiplication result:\")\n",
    "print(result)\n"
   ]
  },
  {
   "cell_type": "markdown",
   "metadata": {},
   "source": [
    "Another very powerful tool in numpy is indexing. You can use either an integer vector or a boolean vector to choose which indexes you want to extract from your numpy tensor.\n",
    "\n",
    "Consider that we want to extract all elements from the first line of your vector y that have a higher value than 1, you would have to do:"
   ]
  },
  {
   "cell_type": "code",
   "execution_count": 20,
   "metadata": {
    "ExecuteTime": {
     "end_time": "2023-10-04T13:09:55.566102Z",
     "start_time": "2023-10-04T13:09:55.560031Z"
    }
   },
   "outputs": [
    {
     "name": "stdout",
     "output_type": "stream",
     "text": [
      "Result:  [4]\n"
     ]
    }
   ],
   "source": [
    "first_row = y[0]\n",
    "first_row_higher_than_one = first_row > 1\n",
    "print(\"Result: \", first_row[first_row_higher_than_one])"
   ]
  },
  {
   "cell_type": "markdown",
   "metadata": {},
   "source": [
    "You can also choose specific lines to query, for example if you want to query lines 0 and 2"
   ]
  },
  {
   "cell_type": "code",
   "execution_count": 21,
   "metadata": {
    "ExecuteTime": {
     "end_time": "2023-10-04T13:09:55.576671Z",
     "start_time": "2023-10-04T13:09:55.570090Z"
    }
   },
   "outputs": [
    {
     "name": "stdout",
     "output_type": "stream",
     "text": [
      "Result:  [ 4 12 13]\n"
     ]
    }
   ],
   "source": [
    "rows = [0,2]\n",
    "rows_result = y[rows]\n",
    "values_higher_than_one = rows_result > 1\n",
    "print(\"Result: \", rows_result[values_higher_than_one])"
   ]
  },
  {
   "cell_type": "markdown",
   "metadata": {},
   "source": [
    "You can also save and load your numpy tensors using np.savez and np.load. This will be really important in the next courses as this enable you to generate your data only once instead of having to do all the calculations every time you need your data."
   ]
  },
  {
   "cell_type": "code",
   "execution_count": 22,
   "metadata": {
    "ExecuteTime": {
     "end_time": "2023-10-04T13:09:55.595639Z",
     "start_time": "2023-10-04T13:09:55.579668Z"
    }
   },
   "outputs": [],
   "source": [
    "filename = \"x.npz\"\n",
    "source_tensor = x\n",
    "np.savez(filename,data=source_tensor)"
   ]
  },
  {
   "cell_type": "code",
   "execution_count": 23,
   "metadata": {
    "ExecuteTime": {
     "end_time": "2023-10-04T13:09:55.606864Z",
     "start_time": "2023-10-04T13:09:55.598636Z"
    }
   },
   "outputs": [
    {
     "name": "stdout",
     "output_type": "stream",
     "text": [
      "Your tensor was loaded and contains:  [2 3]\n"
     ]
    }
   ],
   "source": [
    "loaded_npz = np.load(filename)\n",
    "loaded_tensor = loaded_npz[\"data\"]\n",
    "print(\"Your tensor was loaded and contains: \", loaded_tensor)"
   ]
  },
  {
   "cell_type": "markdown",
   "metadata": {},
   "source": [
    "Part 3 - Setup of the pyrat software and generating games\n",
    "--\n"
   ]
  },
  {
   "cell_type": "markdown",
   "metadata": {},
   "source": [
    "If you have not done so already, you need the latest version of PyRat. To obtain it, open a terminal and run:\n",
    "\n",
    "`python -m pip install --user git+https://github.com/BastienPasdeloup/PyRat.git`\n",
    "\n",
    "A complete guide is available at https://formations.imt-atlantique.fr/pyrat/install/"
   ]
  },
  {
   "cell_type": "code",
   "execution_count": 24,
   "metadata": {
    "ExecuteTime": {
     "end_time": "2023-10-04T13:09:55.615601Z",
     "start_time": "2023-10-04T13:09:55.611858Z"
    }
   },
   "outputs": [],
   "source": [
    "### TO DO: open a terminal tab / window and clone the repo."
   ]
  },
  {
   "cell_type": "markdown",
   "metadata": {},
   "source": [
    "Now, you may import PyRat."
   ]
  },
  {
   "cell_type": "code",
   "execution_count": 25,
   "metadata": {
    "ExecuteTime": {
     "end_time": "2023-10-04T13:09:55.856449Z",
     "start_time": "2023-10-04T13:09:55.617599Z"
    }
   },
   "outputs": [],
   "source": [
    "import sys     # These lines correct a bug occuring in Notebooks.\n",
    "sys.argv=['']  # It's not perfect,\n",
    "del sys        # but it works.\n",
    "\n",
    "import pyrat"
   ]
  },
  {
   "cell_type": "markdown",
   "metadata": {},
   "source": [
    "In the context of the AI course, we are going to simplify the rules of PyRat a bit.\n",
    "In fact, we are going to remove all walls and mud penalties. Also, we are not going to consider symmetric mazes anymore. This has already been prepared in this class.\n",
    "\n",
    "Below, you will find a function which simulates a game between two players `program_1` and `program_2`, and returns the initial locations of cheeses (initial condition) and the winner (1 for `program_1` and -1 `program_2`)."
   ]
  },
  {
   "cell_type": "code",
   "execution_count": 26,
   "metadata": {
    "ExecuteTime": {
     "end_time": "2023-10-04T13:10:08.364384Z",
     "start_time": "2023-10-04T13:09:55.864436Z"
    }
   },
   "outputs": [
    {
     "name": "stdout",
     "output_type": "stream",
     "text": [
      "Cheeses locations: [0. 0. 0. 0. 0. 0. 0. 0. 0. 0. 0. 0. 0. 0. 0. 0. 0. 0. 0. 0. 0. 0. 0. 0.\n",
      " 0. 0. 0. 1. 0. 0. 0. 0. 0. 0. 0. 0. 0. 0. 0. 0. 0. 0. 0. 0. 0. 0. 0. 0.\n",
      " 0. 0. 0. 0. 0. 0. 0. 0. 0. 0. 0. 0. 0. 0. 0. 0. 0. 0. 0. 0. 0. 0. 0. 0.\n",
      " 0. 0. 0. 0. 0. 0. 0. 0. 0. 0. 0. 0. 0. 0. 0. 0. 0. 0. 0. 0. 0. 0. 0. 0.\n",
      " 0. 0. 0. 0.],\n",
      "Winner (1 for `program_1` and -1 `program_2`, 0 for a draw): 0.0\n"
     ]
    }
   ],
   "source": [
    "import simulate_matches_2_opponents as simulations\n",
    "import AI.greedy as greedy_player\n",
    "import AI.random as random_player\n",
    "\n",
    "program_1 = greedy_player \n",
    "program_2 = greedy_player # You may want to test with the random player.\n",
    "\n",
    "cheeses_locations, winner = simulations.run_one_game(program_1, program_2, gui = True)\n",
    "print(f\"Cheeses locations: {cheeses_locations},\\nWinner (1 for `program_1` and -1 `program_2`, 0 for a draw): {winner}\")"
   ]
  },
  {
   "cell_type": "markdown",
   "metadata": {},
   "source": [
    "You can additionally modify the size of the maze and the number of cheeses to catch on the maze."
   ]
  },
  {
   "cell_type": "code",
   "execution_count": 27,
   "metadata": {
    "ExecuteTime": {
     "end_time": "2023-10-04T13:10:24.338309Z",
     "start_time": "2023-10-04T13:10:08.389523Z"
    }
   },
   "outputs": [
    {
     "name": "stdout",
     "output_type": "stream",
     "text": [
      "Cheeses locations: [0. 0. 1. 0. 0. 0. 0. 1. 0. 1. 0. 1. 0. 0. 0. 0. 0. 0. 0. 0.],\n",
      "Winner (1 for `program_1` and -1 `program_2`, 0 for a draw): -1.0\n"
     ]
    }
   ],
   "source": [
    "nb_cheese = 4\n",
    "maze_width = 4\n",
    "maze_height = 5\n",
    "\n",
    "cheeses_locations, winner = simulations.run_one_game(program_1, program_2, nb_cheese = nb_cheese,\n",
    "                                                     maze_width = maze_width, maze_height = maze_height, gui = True)\n",
    "print(f\"Cheeses locations: {cheeses_locations},\\nWinner (1 for `program_1` and -1 `program_2`, 0 for a draw): {winner}\")"
   ]
  },
  {
   "cell_type": "markdown",
   "metadata": {},
   "source": [
    "Finally, you can run several games with the following function, by specifying the number of desired games with `nb_games`. The function returns the initial locations of all cheeses for all games, and the winner for each game. We encourage you to turn off the user interface when runninng several games (setting `gui` to False, which is the default value)."
   ]
  },
  {
   "cell_type": "code",
   "execution_count": 28,
   "metadata": {
    "ExecuteTime": {
     "end_time": "2023-10-04T13:10:45.811504Z",
     "start_time": "2023-10-04T13:10:24.346283Z"
    }
   },
   "outputs": [
    {
     "name": "stderr",
     "output_type": "stream",
     "text": [
      "                                                                                                                       "
     ]
    },
    {
     "name": "stdout",
     "output_type": "stream",
     "text": [
      "Cheeses matrix: [[0. 0. 1. 0. 0. 0. 0. 1. 0. 1. 0. 1. 0. 0. 0. 0. 0. 0. 0. 0.]\n",
      " [0. 0. 0. 1. 1. 0. 0. 1. 0. 0. 0. 0. 0. 0. 1. 0. 0. 0. 0. 0.]\n",
      " [0. 1. 0. 0. 0. 1. 0. 0. 0. 0. 1. 0. 0. 0. 0. 0. 0. 1. 0. 0.]\n",
      " [0. 0. 1. 1. 0. 0. 0. 0. 0. 0. 0. 0. 1. 0. 0. 1. 0. 0. 0. 0.]\n",
      " [0. 0. 0. 0. 1. 0. 0. 1. 0. 0. 0. 0. 1. 0. 0. 0. 0. 1. 0. 0.]\n",
      " [0. 0. 1. 1. 0. 0. 1. 0. 0. 0. 0. 1. 0. 0. 0. 0. 0. 0. 0. 0.]\n",
      " [0. 0. 0. 1. 0. 0. 1. 0. 0. 0. 0. 0. 1. 0. 0. 0. 1. 0. 0. 0.]\n",
      " [0. 0. 0. 0. 0. 0. 0. 0. 0. 1. 0. 0. 0. 1. 0. 1. 0. 1. 0. 0.]\n",
      " [0. 0. 0. 0. 0. 0. 0. 1. 0. 0. 0. 0. 1. 0. 0. 1. 0. 1. 0. 0.]\n",
      " [0. 0. 0. 0. 1. 1. 0. 1. 0. 0. 0. 0. 0. 0. 0. 0. 1. 0. 0. 0.]],\n",
      "Winners: [-1.  1.  0.  0.  0.  0.  0. -1.  0.  0.]\n"
     ]
    },
    {
     "name": "stderr",
     "output_type": "stream",
     "text": [
      "\r"
     ]
    }
   ],
   "source": [
    "nb_games = 10\n",
    "\n",
    "cheeses_10_games, winners_10_games = simulations.run_several_games(program_1, program_2, nb_cheese = nb_cheese,\n",
    "                                                                  maze_width = maze_width, maze_height = maze_height, \n",
    "                                                                  nb_games = nb_games, gui = False)\n",
    "\n",
    "print(f\"Cheeses matrix: {cheeses_10_games},\\nWinners: {winners_10_games}\")"
   ]
  },
  {
   "cell_type": "markdown",
   "metadata": {},
   "source": [
    "Part 4 - Visualizing PyRat Datasets\n",
    "--"
   ]
  },
  {
   "cell_type": "markdown",
   "metadata": {},
   "source": [
    "We've already run 500 games for you, with 4 cheeses and a maze of size 5 x 7. You can load the results in the following cell.\n",
    "\n",
    "X and Y respectively represent the cheeses position and the winner, for each game."
   ]
  },
  {
   "cell_type": "code",
   "execution_count": 36,
   "metadata": {
    "ExecuteTime": {
     "end_time": "2023-10-04T16:52:40.138539Z",
     "start_time": "2023-10-04T16:52:40.062866Z"
    }
   },
   "outputs": [
    {
     "name": "stdout",
     "output_type": "stream",
     "text": [
      "Shape of X matrix: (500, 35),\n",
      "Y matrix: [ 0.  0.  0. -1. -1.  0.  0.  1.  0.  1.  1.  1.  0.  0.  1.  0. -1.  0.\n",
      " -1. -1.  1.  0. -1. -1.  0.  0.  0.  0.  1. -1.  0.  1.  1. -1.  1. -1.\n",
      "  1.  1.  1. -1. -1.  0. -1.  0.  0.  1.  0.  1.  0.  1.  0. -1. -1.  0.\n",
      "  0.  1.  0.  0. -1. -1. -1.  0. -1. -1.  0.  0.  1.  0.  0.  1.  0. -1.\n",
      "  1. -1.  0.  0.  0.  0.  0. -1.  1.  0.  0.  0.  0.  0.  1. -1.  0.  1.\n",
      "  0.  0.  0.  0.  1. -1. -1.  0.  0.  0.  0.  0. -1. -1.  0.  0. -1. -1.\n",
      "  0.  1.  0. -1.  0. -1.  0. -1.  0. -1.  0.  0. -1. -1. -1.  0.  0. -1.\n",
      "  0.  0.  1. -1.  0.  1.  0.  0.  0.  0.  0. -1.  1.  0.  0.  0.  1. -1.\n",
      "  0. -1.  1.  0.  1.  0. -1.  0.  1.  1. -1. -1. -1.  0. -1.  0.  0.  0.\n",
      " -1.  0.  1.  0.  0. -1.  1.  0. -1. -1.  1.  0.  0.  0.  1.  1.  1.  1.\n",
      "  0. -1.  1.  1.  1.  0. -1.  0.  1. -1. -1. -1. -1.  0.  1.  0.  0. -1.\n",
      " -1. -1. -1.  0.  0.  0.  0.  0. -1. -1.  0.  0. -1. -1. -1.  1.  1.  1.\n",
      " -1.  1. -1.  0.  1. -1.  1. -1. -1.  0.  0. -1.  1.  0. -1.  0.  1.  1.\n",
      " -1.  0.  0. -1.  0. -1.  1. -1.  1. -1. -1.  0.  0.  1.  1. -1.  0.  0.\n",
      "  1.  0. -1.  0.  0.  1.  0.  0.  0.  0.  1. -1.  0. -1.  1. -1. -1.  0.\n",
      " -1. -1.  0.  0.  1.  0. -1. -1.  0.  1.  1. -1. -1.  1.  0. -1.  1.  1.\n",
      "  0. -1.  1. -1.  0.  1.  0. -1.  1.  0.  1. -1. -1. -1.  0. -1.  1. -1.\n",
      "  0.  1.  1.  0. -1.  0.  0. -1. -1.  1.  0. -1. -1.  1. -1.  1.  1.  0.\n",
      "  0.  0.  1.  1. -1. -1. -1.  1.  0.  1.  0.  1. -1.  0.  0.  0. -1. -1.\n",
      "  1.  1.  1.  1.  0.  0. -1.  0.  0.  1.  0.  1.  0. -1. -1.  0.  0.  1.\n",
      "  1.  0. -1.  0. -1.  0.  0.  0.  0.  1.  1.  0.  0.  1.  1.  0. -1.  0.\n",
      "  1.  1.  1.  1.  0.  1.  1.  1.  0.  1. -1.  1.  0. -1.  0. -1.  1.  0.\n",
      "  0. -1.  1. -1.  0.  1.  1.  1.  0.  1.  1.  0. -1.  1.  0. -1. -1.  1.\n",
      "  1.  1.  1.  0.  0.  0. -1.  0. -1.  0.  0.  0.  0. -1. -1.  0. -1.  0.\n",
      "  0. -1. -1.  1.  1.  1. -1.  0. -1.  0. -1.  1.  1.  0.  0.  1.  1. -1.\n",
      "  1. -1.  0.  1.  0.  1.  0. -1. -1.  0.  1.  0. -1.  1.  0.  0. -1.  0.\n",
      "  1.  1.  1.  0. -1.  1.  0.  0.  1.  0.  0. -1.  0.  0.  1.  0.  0. -1.\n",
      "  0.  0.  0.  0.  1. -1.  0.  0. -1. -1.  0. -1. -1.  1.]\n"
     ]
    }
   ],
   "source": [
    "cheeses_npz = np.load(\"cheeses_500_games_5x7_4.npz\")\n",
    "X = cheeses_npz[\"data\"]\n",
    "\n",
    "winners_npz = np.load(\"winners_500_games_5x7_4.npz\")\n",
    "Y = winners_npz[\"data\"]\n",
    "print(f\"Shape of X matrix: {X.shape},\\nY matrix: {Y}\")"
   ]
  },
  {
   "cell_type": "markdown",
   "metadata": {},
   "source": [
    "Now with the dataset loaded we can explore it using matplotlib. Matplotlib is a very powerful python graphics display library.\n",
    "\n",
    "We are going to be showing the games initial state and the winner of each match. The games are represented by two variables X and Y.\n",
    "\n",
    "X is a matrix with 500 examples of length 35. Each example can be resized to the real maze shape of 5 by 7. Each data point of the example vector has two possible values. 1 for presence of cheese and 0 for absence of cheese. \n",
    "\n",
    "\n",
    "Y is a scalar integer that ranges from -1 to 1. 1 represents a win by the python, 0 a draw and -1 a win for the rat.\n",
    "\n",
    "The magic command \"%matplotlib inline\" tells jupyter notebook to display the plot results in the document, instead of opening a separate window."
   ]
  },
  {
   "cell_type": "markdown",
   "metadata": {},
   "source": [
    "Now it is your turn. Reshape the X matrix into a tensor of (examples,mazeWidth, mazeHeight) and put it into a variable x_labyrinth"
   ]
  },
  {
   "cell_type": "code",
   "execution_count": 33,
   "metadata": {
    "ExecuteTime": {
     "end_time": "2023-10-04T13:12:12.024935Z",
     "start_time": "2023-10-04T13:12:12.020243Z"
    }
   },
   "outputs": [],
   "source": [
    "### CELL TO BE COMPLETED \n",
    "# x_labyrinth = "
   ]
  },
  {
   "cell_type": "code",
   "execution_count": 31,
   "metadata": {
    "ExecuteTime": {
     "end_time": "2023-10-04T13:10:46.074229Z",
     "start_time": "2023-10-04T13:10:45.836204Z"
    }
   },
   "outputs": [],
   "source": [
    "import matplotlib.pyplot as plt\n",
    "%matplotlib inline"
   ]
  },
  {
   "cell_type": "code",
   "execution_count": 34,
   "metadata": {
    "ExecuteTime": {
     "end_time": "2023-10-04T13:12:14.523534Z",
     "start_time": "2023-10-04T13:12:13.320065Z"
    }
   },
   "outputs": [
    {
     "data": {
      "text/plain": [
       "<matplotlib.colorbar.Colorbar at 0x1cde32af950>"
      ]
     },
     "execution_count": 34,
     "metadata": {},
     "output_type": "execute_result"
    },
    {
     "data": {
      "image/png": "[encoded data removed]",
      "text/plain": [
       "<Figure size 2000x1000 with 4 Axes>"
      ]
     },
     "metadata": {},
     "output_type": "display_data"
    }
   ],
   "source": [
    "afew = 3 # Number of games to sample\n",
    "fig, axis = plt.subplots(1,afew,figsize=(20,10)) # Generate a new figure with one row of `afew` plots. We also set the size 20,10\n",
    "for i in range(afew):\n",
    "    ind = np.random.randint(x_labyrinth.shape[0]) # sample a game\n",
    "    ax = axis[i] # get the corresponding axis to use\n",
    "    img = ax.matshow(x_labyrinth[ind].T) # Show the matrix as an image (With .T, we transpose the width dimension and the height dimension to see the game as plotted by the PyRat software.)\n",
    "    ax.set_title('Winner : {}'.format(Y[ind])) # Set the axis title with the game winner\n",
    "\n",
    "#Invert all of the y axis so that we see the game in the same direction than in the Pyrat software \n",
    "[ax.invert_yaxis() for ax in axis]\n",
    "\n",
    "fig.colorbar(img,ax=axis) # add a colorbar for each image"
   ]
  },
  {
   "cell_type": "markdown",
   "metadata": {},
   "source": [
    "In the plots above, the cheeses (1) are pictured in yellow, while the empty squares are represented in blue."
   ]
  },
  {
   "cell_type": "markdown",
   "metadata": {},
   "source": [
    "# Exercise\n",
    "\n",
    "Now with all the knowledge you acquired today you can start doing some analysis. \n",
    "\n",
    "Compute the average initial configuration of the game for each situation (rat win, draw, python win) and plotting them side by side. "
   ]
  },
  {
   "cell_type": "code",
   "execution_count": null,
   "metadata": {
    "ExecuteTime": {
     "end_time": "2023-10-04T13:10:47.004165Z",
     "start_time": "2023-10-04T13:10:47.004165Z"
    }
   },
   "outputs": [],
   "source": [
    "### CELL TO BE COMPLETED "
   ]
  },
  {
   "cell_type": "code",
   "execution_count": null,
   "metadata": {
    "ExecuteTime": {
     "end_time": "2023-10-04T13:10:47.006164Z",
     "start_time": "2023-10-04T13:10:47.006164Z"
    },
    "scrolled": true
   },
   "outputs": [],
   "source": [
    "### CELL TO BE COMPLETED \n"
   ]
  }
 ],
 "metadata": {
  "kernelspec": {
   "display_name": "Python 3 (ipykernel)",
   "language": "python",
   "name": "python3"
  },
  "language_info": {
   "codemirror_mode": {
    "name": "ipython",
    "version": 3
   },
   "file_extension": ".py",
   "mimetype": "text/x-python",
   "name": "python",
   "nbconvert_exporter": "python",
   "pygments_lexer": "ipython3",
   "version": "3.10.12"
  },
  "toc": {
   "base_numbering": 1,
   "nav_menu": {},
   "number_sections": true,
   "sideBar": true,
   "skip_h1_title": false,
   "title_cell": "Table of Contents",
   "title_sidebar": "Contents",
   "toc_cell": false,
   "toc_position": {},
   "toc_section_display": true,
   "toc_window_display": false
  },
  "varInspector": {
   "cols": {
    "lenName": 16,
    "lenType": 16,
    "lenVar": 40
   },
   "kernels_config": {
    "python": {
     "delete_cmd_postfix": "",
     "delete_cmd_prefix": "del ",
     "library": "var_list.py",
     "varRefreshCmd": "print(var_dic_list())"
    },
    "r": {
     "delete_cmd_postfix": ") ",
     "delete_cmd_prefix": "rm(",
     "library": "var_list.r",
     "varRefreshCmd": "cat(var_dic_list()) "
    }
   },
   "types_to_exclude": [
    "module",
    "function",
    "builtin_function_or_method",
    "instance",
    "_Feature"
   ],
   "window_display": false
  }
 },
 "nbformat": 4,
 "nbformat_minor": 4
}
